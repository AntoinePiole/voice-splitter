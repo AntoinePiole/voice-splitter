{
 "cells": [
  {
   "cell_type": "markdown",
   "metadata": {
    "colab_type": "text",
    "id": "ZfR5y6Xq_tkD"
   },
   "source": [
    "# Mount"
   ]
  },
  {
   "cell_type": "markdown",
   "metadata": {
    "colab_type": "text",
    "id": "DFpXHpD16K0E"
   },
   "source": [
    "# Install"
   ]
  },
  {
   "cell_type": "code",
   "execution_count": 1,
   "metadata": {},
   "outputs": [
    {
     "name": "stdout",
     "output_type": "stream",
     "text": [
      "[WinError 3] The system cannot find the path specified: 'voice-splitter/LibriSpeech'\n",
      "D:\\antpi\\code\\voice-splitter\\LibriSpeech\n"
     ]
    }
   ],
   "source": [
    "cd voice-splitter/LibriSpeech"
   ]
  },
  {
   "cell_type": "code",
   "execution_count": 2,
   "metadata": {},
   "outputs": [],
   "source": [
    "# !pip freeze > requirements.txt"
   ]
  },
  {
   "cell_type": "code",
   "execution_count": 3,
   "metadata": {},
   "outputs": [],
   "source": [
    "# !pip install -r requirements.txt"
   ]
  },
  {
   "cell_type": "code",
   "execution_count": 4,
   "metadata": {
    "colab": {},
    "colab_type": "code",
    "id": "jTwQJq-J_JGh"
   },
   "outputs": [
    {
     "name": "stderr",
     "output_type": "stream",
     "text": [
      "Using TensorFlow backend.\n"
     ]
    }
   ],
   "source": [
    "from __future__ import division, print_function\n",
    "\n",
    "## File management\n",
    "from pathlib import Path\n",
    "import os\n",
    "\n",
    "## Sound\n",
    "import soundfile as sf\n",
    "import librosa\n",
    "import scipy.io.wavfile as wavfile\n",
    "from scipy import signal\n",
    "\n",
    "## Plotting\n",
    "import numpy as np\n",
    "from matplotlib import pyplot as plt\n",
    "import numpy as np\n",
    "import cv2\n",
    "\n",
    "## AI\n",
    "import random\n",
    "from tensorflow.keras.utils import Sequence\n",
    "from keras.models import Sequential, Model\n",
    "from keras.layers import Dense, Conv1D, Conv2D, UpSampling1D, Conv2DTranspose, Flatten, Dropout, MaxPooling1D, MaxPooling2D, AveragePooling2D, Bidirectional, Lambda, LeakyReLU, ReLU, PReLU, Dropout, Input, Add, Multiply, Reshape, BatchNormalization\n",
    "from keras import backend as K\n",
    "import tensorflow as tf"
   ]
  },
  {
   "cell_type": "code",
   "execution_count": 5,
   "metadata": {},
   "outputs": [],
   "source": [
    "# !pip uninstall tensorflow\n",
    "# !pip install tensorflow==2.1.0"
   ]
  },
  {
   "cell_type": "markdown",
   "metadata": {},
   "source": [
    "# Setup"
   ]
  },
  {
   "cell_type": "markdown",
   "metadata": {
    "colab": {
     "base_uri": "https://localhost:8080/",
     "height": 142
    },
    "colab_type": "code",
    "executionInfo": {
     "elapsed": 5522,
     "status": "ok",
     "timestamp": 1580413715910,
     "user": {
      "displayName": "Antoine Piolé",
      "photoUrl": "",
      "userId": "15205973213643939431"
     },
     "user_tz": 480
    },
    "id": "5NRu03HF_0Or",
    "outputId": "db1abf92-6bd9-439f-aa3a-27b5780775e5"
   },
   "source": [
    "# Useful functions"
   ]
  },
  {
   "cell_type": "code",
   "execution_count": 404,
   "metadata": {
    "colab": {},
    "colab_type": "code",
    "id": "mYvYBGLo-j8V"
   },
   "outputs": [],
   "source": [
    "def createDir(path):\n",
    "    if os.path.exists(path):\n",
    "        return\n",
    "    os.mkdir(path)\n",
    "\n",
    "def writeFile(path, data, samplerate, erase=False, verbose=False):\n",
    "    if os.path.exists(path):\n",
    "        if verbose:\n",
    "            print(\"exists\", path)\n",
    "        if erase:\n",
    "            os.remove(path)\n",
    "            sf.write(path, data, samplerate)\n",
    "    else:\n",
    "        if verbose:\n",
    "            print(\"exists not\", path)\n",
    "        sf.write(path, data, samplerate)\n",
    "    \n",
    "def explore(directory):\n",
    "    X = []\n",
    "    walk = os.walk(directory)\n",
    "    for (path, folder, files) in walk:\n",
    "        for file in files:\n",
    "            x = os.path.join(path, file)\n",
    "            X.append(x)\n",
    "    return X\n",
    "    \n",
    "def train_clustering(data_dir, dataProcessor, labels_map, labelsCount, encoder):\n",
    "    examples = explore(data_dir)\n",
    "    random.shuffle(examples)\n",
    "    \n",
    "    labels = [labels_map[dataProcessor.getLabels(example)[0]] for example in examples]\n",
    "    pred_generator = DataGenerator(dataProcessor, examples, [], labels_map, n_classes=labelsCount, batch_size=1, to_fit=False, shuffle=False)\n",
    "    encodings = encoder.predict(pred_generator)\n",
    "    kmeans = KMeans(n_clusters=labelsCount).fit(encodings)\n",
    "    diff = kmeans.labels_ - np.array(labels)\n",
    "    print(diff)\n",
    "    errors = diff[diff != 0]\n",
    "    print(len(errors))\n",
    "    print(len(diff))\n",
    "    print(f\"Finished kmeans clustering, weighted error rate: {len(errors)/len(kmeans.labels_)}\")\n",
    "    return kmeans, diff, np.array(labels)\n",
    "        \n",
    "## Class responsible for preprocessing  \n",
    "class DataProcessor():\n",
    "    def __init__(self, audio_dir, uncut_audio_dir=None, wav_dir=None, data_dir=None, duration = 1, sr=8000, folder_sep='\\\\', title_sep='-', label_pos=0):      \n",
    "        self.audio_dir = audio_dir\n",
    "        self.uncut_audio_dir = uncut_audio_dir\n",
    "        self.wav_dir = wav_dir\n",
    "        self.data_dir = data_dir\n",
    "        self.folder_sep = folder_sep\n",
    "        self.title_sep = title_sep\n",
    "        self.label_pos = label_pos\n",
    "        self.duration = duration\n",
    "        self.sr = sr\n",
    "        self.dim = int(sr*duration)\n",
    "        \n",
    "        self.flacToWav()\n",
    "        self.cutData()\n",
    "        self.trainTestSplit()\n",
    "        self.mapLabels()\n",
    "\n",
    "    def getLabels(self, path):\n",
    "        # Path should be of the form f\"{audio_dir}/{author1}/{author2}/...\"\n",
    "        labels=set()\n",
    "        subfolders = path.split(self.folder_sep)[1:]\n",
    "        for name in subfolders:\n",
    "            author_ID = name.split(self.title_sep)[self.label_pos]\n",
    "            labels.add(author_ID)\n",
    "        return list(labels)\n",
    "    \n",
    "    def getNameFromTitle(self, path):\n",
    "        # Path should be of the form f\"{audio_dir}/{__-__-author1-__-__}/{id}\" where the id is in position self.label_pos\n",
    "        # Returns the last {author_k}\n",
    "        subfolders = path.split(self.folder_sep)\n",
    "        title = subfolders[1]\n",
    "        return title.split(self.title_sep)[self.label_pos]\n",
    "    \n",
    "    def getIDFromTitle(self, path):\n",
    "        # Path should be of the form \"{audio_dir}/{author1}/{author2}/.../{id}\"\n",
    "        # Returns {id}\n",
    "        return path.split(self.folder_sep)[-1]\n",
    "    \n",
    "    def getNames(self, path):\n",
    "        # Path should be of the form \"{audio_dir}/{author1}/{author2}/.../{id}\"\n",
    "        # Returns [{author1}, {author2}, ...]\n",
    "        names = path.split(self.folder_sep)[1:-1]\n",
    "        return names\n",
    "    \n",
    "    def getSubDir(self, path):\n",
    "        # Path is \"{audio_dir}/{author}/{id.wav}\", \n",
    "        # Returns \"{audio_dir}/{author}\"\n",
    "        return path.strip(self.getIDFromTitle(path))\n",
    "\n",
    "    def cutSoundFile(self, path):\n",
    "        # Cut sound file into extracts that each last self.duration, get rid of last extract if too short\n",
    "        data, sr = librosa.load(path)\n",
    "        samples = int(sr * self.duration)\n",
    "        sound_files = [data[i:i + samples] for i in range(0, len(data), samples)]\n",
    "        sound_files = [sound_file for sound_file in sound_files if len(sound_file) == samples]\n",
    "        sound_files = [librosa.resample(sound_file, sr, self.sr) for sound_file in sound_files]\n",
    "        return sound_files, self.sr, path\n",
    "    \n",
    "    def flacToWav(self):\n",
    "        if self.wav_dir is not None and self.data_dir is not None and not explore(self.wav_dir):\n",
    "            print(\"-- Converting .flac to .wav\")\n",
    "            X = explore(self.data_dir)\n",
    "            for (k, x) in enumerate(X):\n",
    "                if k%(len(X)//10) == 0:\n",
    "                    print(f\"{k}/{len(X)} = {k*100//len(X)}%\")\n",
    "                if x.endswith('.flac'):\n",
    "                    name = self.getNameFromTitle(x)\n",
    "                    _id = self.getIDFromTitle(x).replace('.flac', '.wav')\n",
    "                    path = os.path.join(self.wav_dir, name, _id)\n",
    "                    subdir = self.getSubDir(path)\n",
    "                    data, samplerate = sf.read(x)\n",
    "                    p = Path(subdir)\n",
    "                    p.mkdir(parents=True, exist_ok=True)\n",
    "                    sf.write(path, data, samplerate)\n",
    "            \n",
    "    def trainTestSplit(self, ratio=0.2):\n",
    "        print(\"-- Splitting data into train and test\")\n",
    "        X = explore(self.audio_dir)\n",
    "        self.partition_x = {\n",
    "            'train': [],\n",
    "            'test': []\n",
    "        }\n",
    "        self.partition_y = {\n",
    "            'train': [],\n",
    "            'test': []\n",
    "        }\n",
    "        self.n_train = 0\n",
    "        self.n_test = 0        \n",
    "        for (k, x) in enumerate(X):\n",
    "            if k%(len(X)//10) == 0:\n",
    "                print(f\"{k}/{len(X)} = {k*100//len(X)}%\")\n",
    "            y = self.getLabels(x)\n",
    "            if random.uniform(0, 1) < ratio:\n",
    "                self.n_test += 1\n",
    "                self.partition_x['test'].append(x)\n",
    "                self.partition_y['test'].append(y) \n",
    "            else:\n",
    "                self.n_train += 1\n",
    "                self.partition_x['train'].append(x)\n",
    "                self.partition_y['train'].append(y) \n",
    "        print(\"--- Finished train-test split ---\")\n",
    "        print(f\"n-train : {self.n_train}\")\n",
    "        print(f\"n-test : {self.n_test}\")\n",
    "        return self.partition_x, self.partition_y, self.n_train, self.n_test\n",
    "\n",
    "    def mapLabels(self):\n",
    "        print(\"-- Mapping labels\")\n",
    "        X = explore(self.audio_dir)\n",
    "        labelsCount = 0\n",
    "        self.labels_map = {}\n",
    "        for (k, x) in enumerate(X):\n",
    "            if k%(len(X)//10) == 0:\n",
    "                print(f\"{k}/{len(X)} = {k*100//len(X)}%\")\n",
    "            Y = self.getLabels(x)\n",
    "            for y in Y:\n",
    "                if not y in self.labels_map:\n",
    "                    self.labels_map[y] = labelsCount\n",
    "                    labelsCount += 1\n",
    "        return self.labels_map, labelsCount\n",
    "    \n",
    "    def cutData(self):\n",
    "        if self.uncut_audio_dir is not None and not explore(self.audio_dir):\n",
    "            print(\"-- Cutting sound files into same-length extracts\")\n",
    "            X = explore(self.uncut_audio_dir)\n",
    "            for (k, x) in enumerate(X):\n",
    "                if k%(len(X)//10) == 0:\n",
    "                    print(f\"{k}/{len(X)} = {k*100//len(X)}%\")\n",
    "                sound_files, sr, path = self.cutSoundFile(x)\n",
    "                for (k, sound_file) in enumerate(sound_files):\n",
    "                    output_path = path.replace(self.uncut_audio_dir, self.audio_dir).replace('.wav', f\"{self.title_sep}{k}.wav\")\n",
    "                    subdir = self.getSubDir(output_path)\n",
    "                    p = Path(subdir)\n",
    "                    p.mkdir(parents=True, exist_ok=True)\n",
    "                    wavfile.write(output_path, self.sr, sound_file)"
   ]
  },
  {
   "cell_type": "markdown",
   "metadata": {},
   "source": [
    "# Data generator"
   ]
  },
  {
   "cell_type": "code",
   "execution_count": 412,
   "metadata": {},
   "outputs": [],
   "source": [
    "# A data structure that keras can get data from\n",
    "class DataGenerator(Sequence):\n",
    "    # Generates data for Keras\n",
    "    def __init__(self, dataProcessor, list_IDs, labels, labels_map, to_fit=True, batch_size=16, n_channels=1, n_classes=40, shuffle=True, init_shuffle=False):\n",
    "        # Initialization\n",
    "        self.dataProcessor = dataProcessor\n",
    "        self.list_IDs = list_IDs\n",
    "        self.labels = labels\n",
    "        self.labels_map = labels_map\n",
    "        self.to_fit = to_fit\n",
    "        self.batch_size = batch_size\n",
    "        self.n_channels = n_channels\n",
    "        self.n_classes = n_classes\n",
    "        self.sr = dataProcessor.sr\n",
    "        self.duration = dataProcessor.duration\n",
    "        self.dim = dataProcessor.dim\n",
    "        self.shuffle = shuffle\n",
    "        self.init_shuffle = init_shuffle\n",
    "        \n",
    "        self.on_epoch_end()\n",
    "        \n",
    "        if self.init_shuffle:\n",
    "            np.random.shuffle(self.indexes)\n",
    "        \n",
    "    def __len__(self):\n",
    "        # Denotes the number of batches per epoch\n",
    "        return int(np.floor(len(self.list_IDs) / self.batch_size))\n",
    "    \n",
    "    def on_epoch_end(self):\n",
    "        self.indexes = np.arange(len(self.list_IDs))\n",
    "        \n",
    "        # Updates indexes after each epoch\n",
    "        if self.shuffle:\n",
    "            np.random.shuffle(self.indexes)\n",
    "    \n",
    "    def __getitem__(self, index):\n",
    "        # Generate one batch of data\n",
    "        ## Generate indexes of the batch\n",
    "        indexes = self.indexes[index*self.batch_size: (index+1)*self.batch_size]\n",
    "\n",
    "        ## Find list of IDs\n",
    "        list_IDs_temp = [self.list_IDs[k] for k in indexes]\n",
    "\n",
    "        ## Generate data\n",
    "        x = self._generate_x(list_IDs_temp)\n",
    "\n",
    "        if self.to_fit:\n",
    "            y = self._generate_y(list_IDs_temp)\n",
    "            return x, y\n",
    "        else:\n",
    "            return x\n",
    "\n",
    "    def _generate_x(self, list_IDs_temp):\n",
    "        # Generates data containing batch_size images\n",
    "        ## Initialization\n",
    "        x = np.empty((self.batch_size, self.dim))\n",
    "\n",
    "        ## Generate data\n",
    "        for i, ID in enumerate(list_IDs_temp):\n",
    "            # Store sample\n",
    "            x[i,] = self._load_wav(ID)\n",
    "        return x\n",
    "    \n",
    "    def _load_wav(self, ID):\n",
    "        sr, data = wavfile.read(ID)\n",
    "        data = librosa.resample(data, sr, self.sr)\n",
    "        return data\n",
    "\n",
    "    def _generate_y(self, list_IDs_temp):\n",
    "        # Generates data containing batch_size masks\n",
    "        y = np.zeros((self.batch_size, self.n_classes), dtype=int)\n",
    "        for i, ID in enumerate(list_IDs_temp):\n",
    "            label = self._get_label(ID)\n",
    "            y[i,] = label\n",
    "        return y\n",
    "    \n",
    "    def _get_label(self, path):\n",
    "        # Path should be of the form \"{spectrogram_dir}/{author1-*}/{author2-*}\"\n",
    "        classes = np.zeros(self.n_classes)\n",
    "        labels = self.dataProcessor.getLabels(path)\n",
    "        for label in labels:\n",
    "            class_ID = self.labels_map[label]\n",
    "            classes[class_ID]=1\n",
    "        return classes\n",
    "    \n",
    "# Same, but returns 2 files when called, with output = output1 + output2\n",
    "class DoubleDataGenerator(Sequence):\n",
    "    def __init__(self, \n",
    "                 dataProcessor, \n",
    "                 list_IDs, \n",
    "                 labels, \n",
    "                 labels_map,                  \n",
    "                 batch_size=16, \n",
    "                 n_channels=1, \n",
    "                 n_classes=40,\n",
    "                 to_fit=True, \n",
    "                 init_shuffle=False, \n",
    "                 shuffle=True):\n",
    "        self.dataGen1 = DataGenerator(dataProcessor, list_IDs, labels, labels_map, to_fit=to_fit, batch_size=batch_size, n_channels=n_channels, n_classes=n_classes, shuffle=shuffle, init_shuffle=init_shuffle)\n",
    "        self.dataGen2 = DataGenerator(dataProcessor, list_IDs, labels, labels_map, to_fit=to_fit, batch_size=batch_size, n_channels=n_channels, n_classes=n_classes, shuffle=shuffle, init_shuffle=init_shuffle)\n",
    "        self.batch_size = batch_size\n",
    "        self.n_channels = n_channels\n",
    "        self.n_classes = n_classes\n",
    "        \n",
    "    def __len__(self):\n",
    "        return int(np.floor(len(self.dataGen1.list_IDs) / self.dataGen1.batch_size))\n",
    "    \n",
    "    def on_epoch_end(self):\n",
    "        self.dataGen1.on_epoch_end()\n",
    "        self.dataGen2.on_epoch_end()\n",
    "    \n",
    "    def __getitem__(self, index):\n",
    "        if self.dataGen1.to_fit:\n",
    "            x1, y1 = self.dataGen1.__getitem__(index)\n",
    "            x2, y2 = self.dataGen2.__getitem__(index)\n",
    "            return ([x1, x2], y1+y2)\n",
    "        else:\n",
    "            x1 = self.dataGen1.__getitem__(index)\n",
    "            x2 = self.dataGen2.__getitem__(index)\n",
    "        return [x1, x2]\n",
    "\n",
    "    def _generate_X(self, list_IDs_temp):\n",
    "        X1 = self.dataGen1._generate_X(list_IDs_temp)\n",
    "        X2 = self.dataGen2._generate_X(list_IDs_temp)\n",
    "        return [X1, X2]\n",
    "\n",
    "    def _generate_y(self, list_IDs_temp):\n",
    "        y1 = self.dataGen1._generate_y(list_IDs_temp)\n",
    "        y2 = self.dataGen2._generate_y(list_IDs_temp)\n",
    "        return y1+y2"
   ]
  },
  {
   "cell_type": "markdown",
   "metadata": {},
   "source": [
    "# Loss functions"
   ]
  },
  {
   "cell_type": "code",
   "execution_count": 413,
   "metadata": {},
   "outputs": [],
   "source": [
    "def SNR(y_true, y_pred):    \n",
    "    signal_norm = K.mean(K.square(y_true))\n",
    "    noise_norm = K.mean(K.square(y_true-y_pred))\n",
    "    return -10. * K.log(signal_norm/noise_norm)\n",
    "\n",
    "def SI_SNR(y_true, y_pred):    \n",
    "    s_hat = y_pred - K.mean(y_pred)\n",
    "    s = y_true - K.mean(y_true)\n",
    "    s_target = K.sum(s*s_hat)*s / K.sum(K.square(s))\n",
    "    noise = s_hat - s_target\n",
    "    Ps = K.sum(K.square(s_target))\n",
    "    Pn = K.sum(K.square(noise))\n",
    "    si_snr = 10. / np.log(10) * K.log(Pn/Ps)\n",
    "    return si_snr"
   ]
  },
  {
   "cell_type": "markdown",
   "metadata": {},
   "source": [
    "# Run"
   ]
  },
  {
   "cell_type": "markdown",
   "metadata": {},
   "source": [
    "## Functional but easy: Recognizing both speakers when they speak at once on digit-dataset"
   ]
  },
  {
   "cell_type": "code",
   "execution_count": 414,
   "metadata": {
    "scrolled": false
   },
   "outputs": [
    {
     "name": "stdout",
     "output_type": "stream",
     "text": [
      "D:\\antpi\\code\\voice-splitter\\digit-dataset\n"
     ]
    }
   ],
   "source": [
    "cd ../digit-dataset"
   ]
  },
  {
   "cell_type": "code",
   "execution_count": 415,
   "metadata": {
    "scrolled": true
   },
   "outputs": [
    {
     "name": "stdout",
     "output_type": "stream",
     "text": [
      "-- Splitting data into train and test\n",
      "0/3049 = 0%\n",
      "304/3049 = 9%\n",
      "608/3049 = 19%\n",
      "912/3049 = 29%\n",
      "1216/3049 = 39%\n",
      "1520/3049 = 49%\n",
      "1824/3049 = 59%\n",
      "2128/3049 = 69%\n",
      "2432/3049 = 79%\n",
      "2736/3049 = 89%\n",
      "3040/3049 = 99%\n",
      "--- Finished train-test split ---\n",
      "n-train : 2462\n",
      "n-test : 587\n",
      "-- Mapping labels\n",
      "0/3049 = 0%\n",
      "304/3049 = 9%\n",
      "608/3049 = 19%\n",
      "912/3049 = 29%\n",
      "1216/3049 = 39%\n",
      "1520/3049 = 49%\n",
      "1824/3049 = 59%\n",
      "2128/3049 = 69%\n",
      "2432/3049 = 79%\n",
      "2736/3049 = 89%\n",
      "3040/3049 = 99%\n"
     ]
    }
   ],
   "source": [
    "data_dir = 'digit-dataset'\n",
    "wav_dir = None\n",
    "audio_dir = data_dir + \"-recordings\"\n",
    "uncut_audio_dir = data_dir\n",
    "\n",
    "dataP = DataProcessor(audio_dir, uncut_audio_dir=uncut_audio_dir, data_dir=data_dir, duration=0.2, sr=8000, title_sep=\"_\", label_pos=1)\n",
    "dataG = DataGenerator(dataP, dataP.partition_x[\"train\"], dataP.partition_y[\"train\"], dataP.labels_map, to_fit=True)\n",
    "\n",
    "double_training_generator = DoubleDataGenerator(dataP, dataP.partition_x[\"train\"], dataP.partition_y[\"train\"], dataP.labels_map, n_classes=4)\n",
    "double_validation_generator = DoubleDataGenerator(dataP, dataP.partition_x[\"test\"], dataP.partition_y[\"test\"], dataP.labels_map, n_classes=4, shuffle=False, init_shuffle=True)"
   ]
  },
  {
   "cell_type": "code",
   "execution_count": 416,
   "metadata": {},
   "outputs": [
    {
     "data": {
      "text/plain": [
       "{'jackson': 0, 'nicolas': 1, 'theo': 2, 'yweweler': 3}"
      ]
     },
     "execution_count": 416,
     "metadata": {},
     "output_type": "execute_result"
    }
   ],
   "source": [
    "dataP.labels_map"
   ]
  },
  {
   "cell_type": "code",
   "execution_count": 417,
   "metadata": {
    "scrolled": true
   },
   "outputs": [
    {
     "name": "stdout",
     "output_type": "stream",
     "text": [
      "Model: \"autoencoder\"\n",
      "__________________________________________________________________________________________________\n",
      "Layer (type)                    Output Shape         Param #     Connected to                     \n",
      "==================================================================================================\n",
      "input_1 (InputLayer)            (None, 1600)         0                                            \n",
      "__________________________________________________________________________________________________\n",
      "input_2 (InputLayer)            (None, 1600)         0                                            \n",
      "__________________________________________________________________________________________________\n",
      "reshape_34 (Reshape)            (None, 1600, 1)      0           input_1[0][0]                    \n",
      "__________________________________________________________________________________________________\n",
      "reshape_35 (Reshape)            (None, 1600, 1)      0           input_2[0][0]                    \n",
      "__________________________________________________________________________________________________\n",
      "add_30 (Add)                    (None, 1600, 1)      0           reshape_34[0][0]                 \n",
      "                                                                 reshape_35[0][0]                 \n",
      "__________________________________________________________________________________________________\n",
      "conv1d_124 (Conv1D)             (None, 1600, 64)     128         add_30[0][0]                     \n",
      "__________________________________________________________________________________________________\n",
      "leaky_re_lu_167 (LeakyReLU)     (None, 1600, 64)     0           conv1d_124[0][0]                 \n",
      "__________________________________________________________________________________________________\n",
      "max_pooling1d_88 (MaxPooling1D) (None, 800, 64)      0           leaky_re_lu_167[0][0]            \n",
      "__________________________________________________________________________________________________\n",
      "conv1d_125 (Conv1D)             (None, 800, 64)      4160        max_pooling1d_88[0][0]           \n",
      "__________________________________________________________________________________________________\n",
      "leaky_re_lu_168 (LeakyReLU)     (None, 800, 64)      0           conv1d_125[0][0]                 \n",
      "__________________________________________________________________________________________________\n",
      "max_pooling1d_89 (MaxPooling1D) (None, 400, 64)      0           leaky_re_lu_168[0][0]            \n",
      "__________________________________________________________________________________________________\n",
      "conv1d_126 (Conv1D)             (None, 400, 64)      4160        max_pooling1d_89[0][0]           \n",
      "__________________________________________________________________________________________________\n",
      "leaky_re_lu_169 (LeakyReLU)     (None, 400, 64)      0           conv1d_126[0][0]                 \n",
      "__________________________________________________________________________________________________\n",
      "max_pooling1d_90 (MaxPooling1D) (None, 200, 64)      0           leaky_re_lu_169[0][0]            \n",
      "__________________________________________________________________________________________________\n",
      "conv1d_127 (Conv1D)             (None, 200, 64)      4160        max_pooling1d_90[0][0]           \n",
      "__________________________________________________________________________________________________\n",
      "leaky_re_lu_170 (LeakyReLU)     (None, 200, 64)      0           conv1d_127[0][0]                 \n",
      "__________________________________________________________________________________________________\n",
      "max_pooling1d_91 (MaxPooling1D) (None, 100, 64)      0           leaky_re_lu_170[0][0]            \n",
      "__________________________________________________________________________________________________\n",
      "conv1d_128 (Conv1D)             (None, 100, 64)      4160        max_pooling1d_91[0][0]           \n",
      "__________________________________________________________________________________________________\n",
      "leaky_re_lu_171 (LeakyReLU)     (None, 100, 64)      0           conv1d_128[0][0]                 \n",
      "__________________________________________________________________________________________________\n",
      "max_pooling1d_92 (MaxPooling1D) (None, 50, 64)       0           leaky_re_lu_171[0][0]            \n",
      "__________________________________________________________________________________________________\n",
      "conv1d_129 (Conv1D)             (None, 50, 64)       4160        max_pooling1d_92[0][0]           \n",
      "__________________________________________________________________________________________________\n",
      "leaky_re_lu_172 (LeakyReLU)     (None, 50, 64)       0           conv1d_129[0][0]                 \n",
      "__________________________________________________________________________________________________\n",
      "flatten_28 (Flatten)            (None, 3200)         0           leaky_re_lu_172[0][0]            \n",
      "__________________________________________________________________________________________________\n",
      "dense_99 (Dense)                (None, 64)           204864      flatten_28[0][0]                 \n",
      "__________________________________________________________________________________________________\n",
      "dense_100 (Dense)               (None, 64)           4160        dense_99[0][0]                   \n",
      "__________________________________________________________________________________________________\n",
      "dense_101 (Dense)               (None, 4)            260         dense_100[0][0]                  \n",
      "==================================================================================================\n",
      "Total params: 230,212\n",
      "Trainable params: 230,212\n",
      "Non-trainable params: 0\n",
      "__________________________________________________________________________________________________\n"
     ]
    }
   ],
   "source": [
    "input_1 = Input(shape=(dataP.dim,), name='input_1')\n",
    "in_1 = Reshape((dataP.dim, 1))(input_1)\n",
    "input_2 = Input(shape=(dataP.dim,), name='input_2')\n",
    "in_2 = Reshape((dataP.dim, 1))(input_2)\n",
    "added = Add()([in_1, in_2])\n",
    "\n",
    "conv_1 = Conv1D(64, 1)(added)\n",
    "leek_1 = LeakyReLU()(conv_1)\n",
    "pool_1 = MaxPooling1D()(leek_1)\n",
    "conv_2 = Conv1D(64, 1)(pool_1)\n",
    "leek_2 = LeakyReLU()(conv_2)\n",
    "pool_2 = MaxPooling1D()(leek_2)\n",
    "\n",
    "conv_3 = Conv1D(64, 1)(pool_2)\n",
    "leek_3 = LeakyReLU()(conv_3)\n",
    "pool_3 = MaxPooling1D()(leek_3)\n",
    "conv_4 = Conv1D(64, 1)(pool_3)\n",
    "leek_4 = LeakyReLU()(conv_4)\n",
    "pool_4 = MaxPooling1D()(leek_4)\n",
    "\n",
    "conv_5 = Conv1D(64, 1)(pool_4)\n",
    "leek_5 = LeakyReLU()(conv_5)\n",
    "pool_5 = MaxPooling1D()(leek_5)\n",
    "conv_6 = Conv1D(64, 1)(pool_5)\n",
    "leek_6 = LeakyReLU()(conv_6)\n",
    "pool_6 = MaxPooling1D()(leek_6)\n",
    "\n",
    "flat = Flatten()(leek_6)\n",
    "dense_1 = Dense(64)(flat)\n",
    "dense_2 = Dense(64)(dense_1)\n",
    "decoder_output = Dense(double_training_generator.n_classes)(dense_2)\n",
    "\n",
    "autoencoder = Model(inputs=[input_1, input_2], outputs=[decoder_output], name='autoencoder')\n",
    "autoencoder.summary()\n",
    "\n",
    "autoencoder.compile(optimizer='adam',\n",
    "              loss='mean_squared_error',\n",
    "              metrics=['accuracy'])\n"
   ]
  },
  {
   "cell_type": "code",
   "execution_count": 418,
   "metadata": {},
   "outputs": [
    {
     "name": "stdout",
     "output_type": "stream",
     "text": [
      "Epoch 1/20\n",
      "153/153 [==============================] - 2s 16ms/step - loss: 0.3050 - accuracy: 0.6295 - val_loss: 0.1559 - val_accuracy: 0.7656\n",
      "Epoch 2/20\n",
      "153/153 [==============================] - 2s 13ms/step - loss: 0.2314 - accuracy: 0.7582 - val_loss: 0.6499 - val_accuracy: 0.7795\n",
      "Epoch 3/20\n",
      "153/153 [==============================] - 2s 12ms/step - loss: 0.2057 - accuracy: 0.8002 - val_loss: 0.4587 - val_accuracy: 0.7639\n",
      "Epoch 4/20\n",
      "153/153 [==============================] - 2s 12ms/step - loss: 0.1878 - accuracy: 0.8051 - val_loss: 0.5176 - val_accuracy: 0.8229\n",
      "Epoch 5/20\n",
      "153/153 [==============================] - 2s 13ms/step - loss: 0.1782 - accuracy: 0.7868 - val_loss: 0.3948 - val_accuracy: 0.7812\n",
      "Epoch 6/20\n",
      "153/153 [==============================] - 2s 13ms/step - loss: 0.1774 - accuracy: 0.7733 - val_loss: 0.3935 - val_accuracy: 0.8090\n",
      "Epoch 7/20\n",
      "153/153 [==============================] - 2s 13ms/step - loss: 0.1671 - accuracy: 0.8039 - val_loss: 0.6471 - val_accuracy: 0.7413\n",
      "Epoch 8/20\n",
      "153/153 [==============================] - 2s 13ms/step - loss: 0.1787 - accuracy: 0.7966 - val_loss: 0.4936 - val_accuracy: 0.8507\n",
      "Epoch 9/20\n",
      "153/153 [==============================] - 2s 14ms/step - loss: 0.1690 - accuracy: 0.7917 - val_loss: 0.4334 - val_accuracy: 0.8750\n",
      "Epoch 10/20\n",
      "153/153 [==============================] - 2s 13ms/step - loss: 0.1693 - accuracy: 0.7778 - val_loss: 0.4680 - val_accuracy: 0.8611\n",
      "Epoch 11/20\n",
      "153/153 [==============================] - 2s 13ms/step - loss: 0.1629 - accuracy: 0.7986 - val_loss: 0.2573 - val_accuracy: 0.8229\n",
      "Epoch 12/20\n",
      "153/153 [==============================] - 2s 13ms/step - loss: 0.1657 - accuracy: 0.7933 - val_loss: 0.4620 - val_accuracy: 0.8472\n",
      "Epoch 13/20\n",
      "153/153 [==============================] - 2s 13ms/step - loss: 0.1632 - accuracy: 0.7839 - val_loss: 0.4414 - val_accuracy: 0.8767\n",
      "Epoch 14/20\n",
      "153/153 [==============================] - 2s 13ms/step - loss: 0.1592 - accuracy: 0.7831 - val_loss: 0.3855 - val_accuracy: 0.8385\n",
      "Epoch 15/20\n",
      "153/153 [==============================] - 2s 13ms/step - loss: 0.1581 - accuracy: 0.7839 - val_loss: 0.3543 - val_accuracy: 0.8472\n",
      "Epoch 16/20\n",
      "153/153 [==============================] - 2s 13ms/step - loss: 0.1572 - accuracy: 0.7859 - val_loss: 0.3315 - val_accuracy: 0.8351\n",
      "Epoch 17/20\n",
      "153/153 [==============================] - 2s 13ms/step - loss: 0.1535 - accuracy: 0.7913 - val_loss: 0.4148 - val_accuracy: 0.8889\n",
      "Epoch 18/20\n",
      "153/153 [==============================] - 2s 13ms/step - loss: 0.1540 - accuracy: 0.8015 - val_loss: 0.4096 - val_accuracy: 0.8924\n",
      "Epoch 19/20\n",
      "153/153 [==============================] - 2s 13ms/step - loss: 0.1516 - accuracy: 0.8007 - val_loss: 0.4680 - val_accuracy: 0.8646\n",
      "Epoch 20/20\n",
      "153/153 [==============================] - 2s 13ms/step - loss: 0.1627 - accuracy: 0.7949 - val_loss: 0.3704 - val_accuracy: 0.8889\n"
     ]
    },
    {
     "data": {
      "text/plain": [
       "<keras.callbacks.callbacks.History at 0x180fe6c46c8>"
      ]
     },
     "execution_count": 418,
     "metadata": {},
     "output_type": "execute_result"
    }
   ],
   "source": [
    "autoencoder.fit(double_training_generator, validation_data=double_validation_generator, epochs=20)"
   ]
  },
  {
   "cell_type": "code",
   "execution_count": 301,
   "metadata": {},
   "outputs": [
    {
     "ename": "ValueError",
     "evalue": "could not broadcast input array from shape (4410) into shape (1600)",
     "output_type": "error",
     "traceback": [
      "\u001b[1;31m---------------------------------------------------------------------------\u001b[0m",
      "\u001b[1;31mValueError\u001b[0m                                Traceback (most recent call last)",
      "\u001b[1;32m<ipython-input-301-5e541b41a8b9>\u001b[0m in \u001b[0;36m<module>\u001b[1;34m\u001b[0m\n\u001b[1;32m----> 1\u001b[1;33m \u001b[0mdouble_training_generator\u001b[0m\u001b[1;33m[\u001b[0m\u001b[1;36m0\u001b[0m\u001b[1;33m]\u001b[0m\u001b[1;33m\u001b[0m\u001b[1;33m\u001b[0m\u001b[0m\n\u001b[0m",
      "\u001b[1;32m<ipython-input-294-d2da678a4159>\u001b[0m in \u001b[0;36m__getitem__\u001b[1;34m(self, index)\u001b[0m\n\u001b[0;32m    109\u001b[0m     \u001b[1;32mdef\u001b[0m \u001b[0m__getitem__\u001b[0m\u001b[1;33m(\u001b[0m\u001b[0mself\u001b[0m\u001b[1;33m,\u001b[0m \u001b[0mindex\u001b[0m\u001b[1;33m)\u001b[0m\u001b[1;33m:\u001b[0m\u001b[1;33m\u001b[0m\u001b[1;33m\u001b[0m\u001b[0m\n\u001b[0;32m    110\u001b[0m         \u001b[1;32mif\u001b[0m \u001b[0mself\u001b[0m\u001b[1;33m.\u001b[0m\u001b[0mdataGen1\u001b[0m\u001b[1;33m.\u001b[0m\u001b[0mto_fit\u001b[0m\u001b[1;33m:\u001b[0m\u001b[1;33m\u001b[0m\u001b[1;33m\u001b[0m\u001b[0m\n\u001b[1;32m--> 111\u001b[1;33m             \u001b[0mx1\u001b[0m\u001b[1;33m,\u001b[0m \u001b[0my1\u001b[0m \u001b[1;33m=\u001b[0m \u001b[0mself\u001b[0m\u001b[1;33m.\u001b[0m\u001b[0mdataGen1\u001b[0m\u001b[1;33m.\u001b[0m\u001b[0m__getitem__\u001b[0m\u001b[1;33m(\u001b[0m\u001b[0mindex\u001b[0m\u001b[1;33m)\u001b[0m\u001b[1;33m\u001b[0m\u001b[1;33m\u001b[0m\u001b[0m\n\u001b[0m\u001b[0;32m    112\u001b[0m             \u001b[0mx2\u001b[0m\u001b[1;33m,\u001b[0m \u001b[0my2\u001b[0m \u001b[1;33m=\u001b[0m \u001b[0mself\u001b[0m\u001b[1;33m.\u001b[0m\u001b[0mdataGen2\u001b[0m\u001b[1;33m.\u001b[0m\u001b[0m__getitem__\u001b[0m\u001b[1;33m(\u001b[0m\u001b[0mindex\u001b[0m\u001b[1;33m)\u001b[0m\u001b[1;33m\u001b[0m\u001b[1;33m\u001b[0m\u001b[0m\n\u001b[0;32m    113\u001b[0m             \u001b[1;32mreturn\u001b[0m \u001b[1;33m(\u001b[0m\u001b[1;33m[\u001b[0m\u001b[0mx1\u001b[0m\u001b[1;33m,\u001b[0m \u001b[0mx2\u001b[0m\u001b[1;33m]\u001b[0m\u001b[1;33m,\u001b[0m \u001b[0my1\u001b[0m\u001b[1;33m+\u001b[0m\u001b[0my2\u001b[0m\u001b[1;33m)\u001b[0m\u001b[1;33m\u001b[0m\u001b[1;33m\u001b[0m\u001b[0m\n",
      "\u001b[1;32m<ipython-input-294-d2da678a4159>\u001b[0m in \u001b[0;36m__getitem__\u001b[1;34m(self, index)\u001b[0m\n\u001b[0;32m     42\u001b[0m \u001b[1;33m\u001b[0m\u001b[0m\n\u001b[0;32m     43\u001b[0m         \u001b[1;31m## Generate data\u001b[0m\u001b[1;33m\u001b[0m\u001b[1;33m\u001b[0m\u001b[1;33m\u001b[0m\u001b[0m\n\u001b[1;32m---> 44\u001b[1;33m         \u001b[0mx\u001b[0m \u001b[1;33m=\u001b[0m \u001b[0mself\u001b[0m\u001b[1;33m.\u001b[0m\u001b[0m_generate_x\u001b[0m\u001b[1;33m(\u001b[0m\u001b[0mlist_IDs_temp\u001b[0m\u001b[1;33m)\u001b[0m\u001b[1;33m\u001b[0m\u001b[1;33m\u001b[0m\u001b[0m\n\u001b[0m\u001b[0;32m     45\u001b[0m \u001b[1;33m\u001b[0m\u001b[0m\n\u001b[0;32m     46\u001b[0m         \u001b[1;32mif\u001b[0m \u001b[0mself\u001b[0m\u001b[1;33m.\u001b[0m\u001b[0mto_fit\u001b[0m\u001b[1;33m:\u001b[0m\u001b[1;33m\u001b[0m\u001b[1;33m\u001b[0m\u001b[0m\n",
      "\u001b[1;32m<ipython-input-294-d2da678a4159>\u001b[0m in \u001b[0;36m_generate_x\u001b[1;34m(self, list_IDs_temp)\u001b[0m\n\u001b[0;32m     58\u001b[0m         \u001b[1;32mfor\u001b[0m \u001b[0mi\u001b[0m\u001b[1;33m,\u001b[0m \u001b[0mID\u001b[0m \u001b[1;32min\u001b[0m \u001b[0menumerate\u001b[0m\u001b[1;33m(\u001b[0m\u001b[0mlist_IDs_temp\u001b[0m\u001b[1;33m)\u001b[0m\u001b[1;33m:\u001b[0m\u001b[1;33m\u001b[0m\u001b[1;33m\u001b[0m\u001b[0m\n\u001b[0;32m     59\u001b[0m             \u001b[1;31m# Store sample\u001b[0m\u001b[1;33m\u001b[0m\u001b[1;33m\u001b[0m\u001b[1;33m\u001b[0m\u001b[0m\n\u001b[1;32m---> 60\u001b[1;33m             \u001b[0mx\u001b[0m\u001b[1;33m[\u001b[0m\u001b[0mi\u001b[0m\u001b[1;33m,\u001b[0m\u001b[1;33m]\u001b[0m \u001b[1;33m=\u001b[0m \u001b[0mself\u001b[0m\u001b[1;33m.\u001b[0m\u001b[0m_load_wav\u001b[0m\u001b[1;33m(\u001b[0m\u001b[0mID\u001b[0m\u001b[1;33m)\u001b[0m\u001b[1;33m\u001b[0m\u001b[1;33m\u001b[0m\u001b[0m\n\u001b[0m\u001b[0;32m     61\u001b[0m         \u001b[1;32mreturn\u001b[0m \u001b[0mx\u001b[0m\u001b[1;33m\u001b[0m\u001b[1;33m\u001b[0m\u001b[0m\n\u001b[0;32m     62\u001b[0m \u001b[1;33m\u001b[0m\u001b[0m\n",
      "\u001b[1;31mValueError\u001b[0m: could not broadcast input array from shape (4410) into shape (1600)"
     ]
    }
   ],
   "source": [
    "double_training_generator[0]"
   ]
  },
  {
   "cell_type": "code",
   "execution_count": 161,
   "metadata": {
    "scrolled": true
   },
   "outputs": [
    {
     "ename": "NameError",
     "evalue": "name 'dataProcessor' is not defined",
     "output_type": "error",
     "traceback": [
      "\u001b[1;31m---------------------------------------------------------------------------\u001b[0m",
      "\u001b[1;31mNameError\u001b[0m                                 Traceback (most recent call last)",
      "\u001b[1;32m<ipython-input-161-71dd2b9a100a>\u001b[0m in \u001b[0;36m<module>\u001b[1;34m\u001b[0m\n\u001b[0;32m     28\u001b[0m     \u001b[1;32mreturn\u001b[0m \u001b[1;33m(\u001b[0m\u001b[0mbest_theta\u001b[0m\u001b[1;33m,\u001b[0m \u001b[0mbest_accuracy\u001b[0m\u001b[1;33m)\u001b[0m\u001b[1;33m\u001b[0m\u001b[1;33m\u001b[0m\u001b[0m\n\u001b[0;32m     29\u001b[0m \u001b[1;33m\u001b[0m\u001b[0m\n\u001b[1;32m---> 30\u001b[1;33m \u001b[0mdouble_pediction_generator\u001b[0m \u001b[1;33m=\u001b[0m \u001b[0mDoubleDataGenerator\u001b[0m\u001b[1;33m(\u001b[0m\u001b[0mdataProcessor\u001b[0m\u001b[1;33m,\u001b[0m \u001b[0mpartition_x\u001b[0m\u001b[1;33m[\u001b[0m\u001b[1;34m\"test\"\u001b[0m\u001b[1;33m]\u001b[0m\u001b[1;33m,\u001b[0m \u001b[0mpartition_y\u001b[0m\u001b[1;33m[\u001b[0m\u001b[1;34m\"test\"\u001b[0m\u001b[1;33m]\u001b[0m\u001b[1;33m,\u001b[0m \u001b[0mlabelsMapping\u001b[0m\u001b[1;33m,\u001b[0m \u001b[0mn_classes\u001b[0m\u001b[1;33m=\u001b[0m\u001b[0mlabelsCount\u001b[0m\u001b[1;33m,\u001b[0m \u001b[0mbatch_size\u001b[0m\u001b[1;33m=\u001b[0m\u001b[0mlen\u001b[0m\u001b[1;33m(\u001b[0m\u001b[0mpartition_x\u001b[0m\u001b[1;33m[\u001b[0m\u001b[1;34m\"test\"\u001b[0m\u001b[1;33m]\u001b[0m\u001b[1;33m)\u001b[0m\u001b[1;33m,\u001b[0m \u001b[0mto_fit\u001b[0m\u001b[1;33m=\u001b[0m\u001b[1;32mTrue\u001b[0m\u001b[1;33m,\u001b[0m \u001b[0mshuffle\u001b[0m\u001b[1;33m=\u001b[0m\u001b[1;32mFalse\u001b[0m\u001b[1;33m,\u001b[0m \u001b[0minit_shuffle\u001b[0m\u001b[1;33m=\u001b[0m\u001b[1;32mTrue\u001b[0m\u001b[1;33m)\u001b[0m\u001b[1;33m\u001b[0m\u001b[1;33m\u001b[0m\u001b[0m\n\u001b[0m\u001b[0;32m     31\u001b[0m \u001b[0mexamples\u001b[0m\u001b[1;33m,\u001b[0m \u001b[0mlabels\u001b[0m \u001b[1;33m=\u001b[0m \u001b[0mdouble_pediction_generator\u001b[0m\u001b[1;33m.\u001b[0m\u001b[0m__getitem__\u001b[0m\u001b[1;33m(\u001b[0m\u001b[1;36m0\u001b[0m\u001b[1;33m)\u001b[0m\u001b[1;33m\u001b[0m\u001b[1;33m\u001b[0m\u001b[0m\n\u001b[0;32m     32\u001b[0m \u001b[0mpredictions\u001b[0m \u001b[1;33m=\u001b[0m \u001b[0mautoencoder\u001b[0m\u001b[1;33m.\u001b[0m\u001b[0mpredict\u001b[0m\u001b[1;33m(\u001b[0m\u001b[0mexamples\u001b[0m\u001b[1;33m)\u001b[0m\u001b[1;33m\u001b[0m\u001b[1;33m\u001b[0m\u001b[0m\n",
      "\u001b[1;31mNameError\u001b[0m: name 'dataProcessor' is not defined"
     ]
    }
   ],
   "source": [
    "def evaluate_classify(theta, X, dataProcessor, labelsMapping, predictions):\n",
    "    c=0\n",
    "    for k in range(len(predictions)):\n",
    "        prediction = predictions[k]\n",
    "        real_labels = labels[k]\n",
    "        example = X[k]\n",
    "        best = np.arange(len(prediction))\n",
    "        real = np.arange(len(real_labels))\n",
    "        best = set(best[prediction>theta])\n",
    "        real = set(real[real_labels==1])\n",
    "        if real == best:\n",
    "            c+=1\n",
    "    accuracy = c/len(predictions)\n",
    "    return accuracy\n",
    "\n",
    "\n",
    "def evaluate(X, dataProcessor, labelsMapping, predictions):\n",
    "    accuracies=[]\n",
    "    thetas=[]\n",
    "    for theta in np.linspace(0, 1.5, 51):\n",
    "        accuracy = evaluate_classify(theta, X, dataProcessor, labelsMapping, predictions)\n",
    "        accuracies.append(accuracy)\n",
    "        thetas.append(theta)\n",
    "#     plt.plot(thetas, accuracies)\n",
    "    best_index = np.argmax(accuracies)\n",
    "    best_theta = thetas[best_index]\n",
    "    best_accuracy = accuracies[best_index]\n",
    "    return (best_theta, best_accuracy)\n",
    "    \n",
    "double_pediction_generator = DoubleDataGenerator(dataProcessor, partition_x[\"test\"], partition_y[\"test\"], labelsMapping, n_classes=labelsCount, batch_size=len(partition_x[\"test\"]), to_fit=True, shuffle=False, init_shuffle=True)\n",
    "examples, labels = double_pediction_generator.__getitem__(0)\n",
    "predictions = autoencoder.predict(examples)\n",
    "\n",
    "best_thetas = []\n",
    "best_accuracies = []\n",
    "epochs = []\n",
    "for k in range(30):\n",
    "    autoencoder.fit(double_training_generator, validation_data=double_validation_generator, epochs=1)\n",
    "    predictions = autoencoder.predict(examples)\n",
    "    theta, accuracy = evaluate(partition_x[\"test\"], dataProcessor, labelsMapping, predictions)\n",
    "    best_thetas.append(theta)\n",
    "    best_accuracies.append(accuracy)\n",
    "    epochs.append(k)\n",
    "    \n",
    "plt.plot(epochs, best_accuracies)\n",
    "plt.plot(epochs, thetas)"
   ]
  },
  {
   "cell_type": "markdown",
   "metadata": {},
   "source": [
    "## Using masks to reconstruct original pictures with 2 known authors"
   ]
  },
  {
   "cell_type": "code",
   "execution_count": 19,
   "metadata": {},
   "outputs": [
    {
     "name": "stdout",
     "output_type": "stream",
     "text": [
      "D:\\antpi\\code\\voice-splitter\\digit-dataset\n"
     ]
    }
   ],
   "source": [
    "cd ../digit-dataset"
   ]
  },
  {
   "cell_type": "code",
   "execution_count": 130,
   "metadata": {},
   "outputs": [
    {
     "name": "stdout",
     "output_type": "stream",
     "text": [
      "--- Finished train-test split ---\n",
      "n-train : 458\n",
      "n-test : 42\n",
      "--- Finished train-test split ---\n",
      "n-train : 448\n",
      "n-test : 52\n"
     ]
    }
   ],
   "source": [
    "data_dir = 'digit-dataset'\n",
    "audio_dir_1 = data_dir + \"-recordings-1\"\n",
    "audio_dir_2 = data_dir + \"-recordings-2\"\n",
    "spectrogram_dir_1 = data_dir + \"-spectrograms-1\" # Has spectrograms for Jackson\n",
    "spectrogram_dir_2 = data_dir + \"-spectrograms-2\" # Has spectrograms for Nicolas\n",
    "\n",
    "dataProcessor_1 = DataProcessor(\n",
    "    audio_dir_1, \n",
    "    spectrogram_dir_1, \n",
    "    folder_sep = '\\\\', \n",
    "    title_sep = '_', \n",
    "    label_pos = 1\n",
    ")\n",
    "partition_x_1, partition_y_1, _, _ = dataProcessor_1.trainTestSplit(spectrogram_dir_1)\n",
    "_, labelsCount_1 = dataProcessor_1.mapLabels(spectrogram_dir_1)\n",
    "dataGen1_train = AutoDataGenerator(dataProcessor_1, partition_x_1[\"train\"])\n",
    "dataGen1_test = AutoDataGenerator(dataProcessor_1, partition_x_1[\"test\"])\n",
    "\n",
    "dataProcessor_2 = DataProcessor(\n",
    "    audio_dir_2, \n",
    "    spectrogram_dir_2, \n",
    "    folder_sep = '\\\\', \n",
    "    title_sep = '_', \n",
    "    label_pos = 1\n",
    ")\n",
    "partition_x_2, partition_y_2, _, _ = dataProcessor_2.trainTestSplit(spectrogram_dir_2)\n",
    "_, labelsCount_2 = dataProcessor_2.mapLabels(spectrogram_dir_2)\n",
    "dataGen2_train = AutoDataGenerator(dataProcessor_2, partition_x_2[\"train\"], to_fit=False)\n",
    "dataGen2_test = AutoDataGenerator(dataProcessor_2, partition_x_2[\"test\"], to_fit=False)\n",
    "\n",
    "double_auto_training_generator = DoubleAutoDataGenerator(dataGen1_train, dataGen2_train)\n",
    "double_auto_validation_generator = DoubleAutoDataGenerator(dataGen1_test, dataGen2_test)"
   ]
  },
  {
   "cell_type": "code",
   "execution_count": 131,
   "metadata": {},
   "outputs": [
    {
     "name": "stdout",
     "output_type": "stream",
     "text": [
      "Model: \"autoencoder\"\n",
      "__________________________________________________________________________________________________\n",
      "Layer (type)                    Output Shape         Param #     Connected to                     \n",
      "==================================================================================================\n",
      "input_1 (InputLayer)            (None, 128, 128)     0                                            \n",
      "__________________________________________________________________________________________________\n",
      "input_2 (InputLayer)            (None, 128, 128)     0                                            \n",
      "__________________________________________________________________________________________________\n",
      "add_28 (Add)                    (None, 128, 128)     0           input_1[0][0]                    \n",
      "                                                                 input_2[0][0]                    \n",
      "__________________________________________________________________________________________________\n",
      "conv1d_259 (Conv1D)             (None, 126, 128)     49280       add_28[0][0]                     \n",
      "__________________________________________________________________________________________________\n",
      "leaky_re_lu_149 (LeakyReLU)     (None, 126, 128)     0           conv1d_259[0][0]                 \n",
      "__________________________________________________________________________________________________\n",
      "batch_normalization_76 (BatchNo (None, 126, 128)     512         leaky_re_lu_149[0][0]            \n",
      "__________________________________________________________________________________________________\n",
      "max_pooling1d_22 (MaxPooling1D) (None, 63, 128)      0           batch_normalization_76[0][0]     \n",
      "__________________________________________________________________________________________________\n",
      "conv1d_260 (Conv1D)             (None, 61, 128)      49280       max_pooling1d_22[0][0]           \n",
      "__________________________________________________________________________________________________\n",
      "leaky_re_lu_150 (LeakyReLU)     (None, 61, 128)      0           conv1d_260[0][0]                 \n",
      "__________________________________________________________________________________________________\n",
      "batch_normalization_77 (BatchNo (None, 61, 128)      512         leaky_re_lu_150[0][0]            \n",
      "__________________________________________________________________________________________________\n",
      "max_pooling1d_23 (MaxPooling1D) (None, 30, 128)      0           batch_normalization_77[0][0]     \n",
      "__________________________________________________________________________________________________\n",
      "conv1d_261 (Conv1D)             (None, 28, 128)      49280       max_pooling1d_23[0][0]           \n",
      "__________________________________________________________________________________________________\n",
      "leaky_re_lu_151 (LeakyReLU)     (None, 28, 128)      0           conv1d_261[0][0]                 \n",
      "__________________________________________________________________________________________________\n",
      "batch_normalization_78 (BatchNo (None, 28, 128)      512         leaky_re_lu_151[0][0]            \n",
      "__________________________________________________________________________________________________\n",
      "max_pooling1d_24 (MaxPooling1D) (None, 14, 128)      0           batch_normalization_78[0][0]     \n",
      "__________________________________________________________________________________________________\n",
      "dropout_28 (Dropout)            (None, 14, 128)      0           max_pooling1d_24[0][0]           \n",
      "__________________________________________________________________________________________________\n",
      "conv1d_262 (Conv1D)             (None, 11, 128)      65664       dropout_28[0][0]                 \n",
      "__________________________________________________________________________________________________\n",
      "conv1d_266 (Conv1D)             (None, 11, 128)      65664       dropout_28[0][0]                 \n",
      "__________________________________________________________________________________________________\n",
      "leaky_re_lu_152 (LeakyReLU)     (None, 11, 128)      0           conv1d_262[0][0]                 \n",
      "__________________________________________________________________________________________________\n",
      "leaky_re_lu_155 (LeakyReLU)     (None, 11, 128)      0           conv1d_266[0][0]                 \n",
      "__________________________________________________________________________________________________\n",
      "up_sampling1d_42 (UpSampling1D) (None, 33, 128)      0           leaky_re_lu_152[0][0]            \n",
      "__________________________________________________________________________________________________\n",
      "up_sampling1d_45 (UpSampling1D) (None, 33, 128)      0           leaky_re_lu_155[0][0]            \n",
      "__________________________________________________________________________________________________\n",
      "conv1d_263 (Conv1D)             (None, 32, 128)      32896       up_sampling1d_42[0][0]           \n",
      "__________________________________________________________________________________________________\n",
      "conv1d_267 (Conv1D)             (None, 32, 128)      32896       up_sampling1d_45[0][0]           \n",
      "__________________________________________________________________________________________________\n",
      "leaky_re_lu_153 (LeakyReLU)     (None, 32, 128)      0           conv1d_263[0][0]                 \n",
      "__________________________________________________________________________________________________\n",
      "leaky_re_lu_156 (LeakyReLU)     (None, 32, 128)      0           conv1d_267[0][0]                 \n",
      "__________________________________________________________________________________________________\n",
      "up_sampling1d_43 (UpSampling1D) (None, 64, 128)      0           leaky_re_lu_153[0][0]            \n",
      "__________________________________________________________________________________________________\n",
      "up_sampling1d_46 (UpSampling1D) (None, 64, 128)      0           leaky_re_lu_156[0][0]            \n",
      "__________________________________________________________________________________________________\n",
      "conv1d_264 (Conv1D)             (None, 64, 128)      16512       up_sampling1d_43[0][0]           \n",
      "__________________________________________________________________________________________________\n",
      "conv1d_268 (Conv1D)             (None, 64, 128)      16512       up_sampling1d_46[0][0]           \n",
      "__________________________________________________________________________________________________\n",
      "leaky_re_lu_154 (LeakyReLU)     (None, 64, 128)      0           conv1d_264[0][0]                 \n",
      "__________________________________________________________________________________________________\n",
      "leaky_re_lu_157 (LeakyReLU)     (None, 64, 128)      0           conv1d_268[0][0]                 \n",
      "__________________________________________________________________________________________________\n",
      "up_sampling1d_44 (UpSampling1D) (None, 128, 128)     0           leaky_re_lu_154[0][0]            \n",
      "__________________________________________________________________________________________________\n",
      "up_sampling1d_47 (UpSampling1D) (None, 128, 128)     0           leaky_re_lu_157[0][0]            \n",
      "__________________________________________________________________________________________________\n",
      "conv1d_265 (Conv1D)             (None, 128, 128)     16512       up_sampling1d_44[0][0]           \n",
      "__________________________________________________________________________________________________\n",
      "conv1d_269 (Conv1D)             (None, 128, 128)     16512       up_sampling1d_47[0][0]           \n",
      "__________________________________________________________________________________________________\n",
      "multiply_47 (Multiply)          (None, 128, 128)     0           add_28[0][0]                     \n",
      "                                                                 conv1d_265[0][0]                 \n",
      "__________________________________________________________________________________________________\n",
      "multiply_48 (Multiply)          (None, 128, 128)     0           add_28[0][0]                     \n",
      "                                                                 conv1d_269[0][0]                 \n",
      "==================================================================================================\n",
      "Total params: 412,544\n",
      "Trainable params: 411,776\n",
      "Non-trainable params: 768\n",
      "__________________________________________________________________________________________________\n"
     ]
    }
   ],
   "source": [
    "input_1 = Input(shape=SPECTROGRAM_DIMENSIONS, name='input_1')\n",
    "input_2 = Input(shape=SPECTROGRAM_DIMENSIONS, name='input_2')\n",
    "added = Add()([input_1, input_2])\n",
    "\n",
    "x = Conv1D(128, 3)(added)\n",
    "x = LeakyReLU()(x)\n",
    "x = BatchNormalization()(x)\n",
    "x = MaxPooling1D(2)(x)\n",
    "\n",
    "x = Conv1D(128, 3)(x)\n",
    "x = LeakyReLU()(x)\n",
    "x = BatchNormalization()(x)\n",
    "x = MaxPooling1D(2)(x)\n",
    "\n",
    "x = Conv1D(128, 3)(x)\n",
    "x = LeakyReLU()(x)\n",
    "x = BatchNormalization()(x)\n",
    "x = MaxPooling1D(2)(x)\n",
    "dropout = Dropout(0.2)(x)\n",
    "\n",
    "x1 = Conv1D(128, 4)(dropout)\n",
    "x1 = LeakyReLU()(x1)\n",
    "x1 = UpSampling1D(size=3)(x1)\n",
    "x1 = Conv1D(128, 2)(x1)\n",
    "x1 = LeakyReLU()(x1)\n",
    "x1 = UpSampling1D()(x1)\n",
    "x1 = Conv1D(128, 1)(x1)\n",
    "x1 = LeakyReLU()(x1)\n",
    "x1 = UpSampling1D()(x1)\n",
    "mask_1 = Conv1D(128, 1, activation=\"sigmoid\")(x1)\n",
    "out_1 = Multiply()([added, mask_1])\n",
    "\n",
    "\n",
    "x2 = Conv1D(128, 4)(dropout)\n",
    "x2 = LeakyReLU()(x2)\n",
    "x2 = UpSampling1D(size=3)(x2)\n",
    "x2 = Conv1D(128, 2)(x2)\n",
    "x2 = LeakyReLU()(x2)\n",
    "x2 = UpSampling1D()(x2)\n",
    "x2 = Conv1D(128, 1)(x2)\n",
    "x2 = LeakyReLU()(x2)\n",
    "x2 = UpSampling1D()(x2)\n",
    "mask_2 = Conv1D(128, 1, activation=\"sigmoid\")(x2)\n",
    "out_2 = Multiply()([added, mask_2])\n",
    "\n",
    "\n",
    "autoencoder = Model(inputs=[input_1, input_2], outputs=[out_1, out_2], name='autoencoder')\n",
    "autoencoder.summary()\n",
    "autoencoder.compile(optimizer='adam',\n",
    "              loss=SI_SNR)"
   ]
  },
  {
   "cell_type": "code",
   "execution_count": 132,
   "metadata": {},
   "outputs": [
    {
     "name": "stdout",
     "output_type": "stream",
     "text": [
      "Model: \"autoencoder\"\n",
      "__________________________________________________________________________________________________\n",
      "Layer (type)                    Output Shape         Param #     Connected to                     \n",
      "==================================================================================================\n",
      "input_1 (InputLayer)            (None, 128, 128)     0                                            \n",
      "__________________________________________________________________________________________________\n",
      "input_2 (InputLayer)            (None, 128, 128)     0                                            \n",
      "__________________________________________________________________________________________________\n",
      "add_29 (Add)                    (None, 128, 128)     0           input_1[0][0]                    \n",
      "                                                                 input_2[0][0]                    \n",
      "__________________________________________________________________________________________________\n",
      "conv1d_270 (Conv1D)             (None, 128, 128)     49280       add_29[0][0]                     \n",
      "__________________________________________________________________________________________________\n",
      "p_re_lu_80 (PReLU)              (None, 128, 128)     16384       conv1d_270[0][0]                 \n",
      "__________________________________________________________________________________________________\n",
      "batch_normalization_79 (BatchNo (None, 128, 128)     512         p_re_lu_80[0][0]                 \n",
      "__________________________________________________________________________________________________\n",
      "max_pooling1d_25 (MaxPooling1D) (None, 64, 128)      0           batch_normalization_79[0][0]     \n",
      "__________________________________________________________________________________________________\n",
      "conv1d_271 (Conv1D)             (None, 64, 128)      49280       max_pooling1d_25[0][0]           \n",
      "__________________________________________________________________________________________________\n",
      "p_re_lu_81 (PReLU)              (None, 64, 128)      8192        conv1d_271[0][0]                 \n",
      "__________________________________________________________________________________________________\n",
      "batch_normalization_80 (BatchNo (None, 64, 128)      512         p_re_lu_81[0][0]                 \n",
      "__________________________________________________________________________________________________\n",
      "max_pooling1d_26 (MaxPooling1D) (None, 32, 128)      0           batch_normalization_80[0][0]     \n",
      "__________________________________________________________________________________________________\n",
      "conv1d_272 (Conv1D)             (None, 32, 128)      49280       max_pooling1d_26[0][0]           \n",
      "__________________________________________________________________________________________________\n",
      "p_re_lu_82 (PReLU)              (None, 32, 128)      4096        conv1d_272[0][0]                 \n",
      "__________________________________________________________________________________________________\n",
      "batch_normalization_81 (BatchNo (None, 32, 128)      512         p_re_lu_82[0][0]                 \n",
      "__________________________________________________________________________________________________\n",
      "dropout_29 (Dropout)            (None, 32, 128)      0           batch_normalization_81[0][0]     \n",
      "__________________________________________________________________________________________________\n",
      "conv1d_273 (Conv1D)             (None, 32, 128)      49280       dropout_29[0][0]                 \n",
      "__________________________________________________________________________________________________\n",
      "conv1d_277 (Conv1D)             (None, 32, 128)      49280       dropout_29[0][0]                 \n",
      "__________________________________________________________________________________________________\n",
      "p_re_lu_83 (PReLU)              (None, 32, 128)      4096        conv1d_273[0][0]                 \n",
      "__________________________________________________________________________________________________\n",
      "p_re_lu_86 (PReLU)              (None, 32, 128)      4096        conv1d_277[0][0]                 \n",
      "__________________________________________________________________________________________________\n",
      "up_sampling1d_48 (UpSampling1D) (None, 64, 128)      0           p_re_lu_83[0][0]                 \n",
      "__________________________________________________________________________________________________\n",
      "up_sampling1d_50 (UpSampling1D) (None, 64, 128)      0           p_re_lu_86[0][0]                 \n",
      "__________________________________________________________________________________________________\n",
      "conv1d_274 (Conv1D)             (None, 64, 128)      49280       up_sampling1d_48[0][0]           \n",
      "__________________________________________________________________________________________________\n",
      "conv1d_278 (Conv1D)             (None, 64, 128)      49280       up_sampling1d_50[0][0]           \n",
      "__________________________________________________________________________________________________\n",
      "p_re_lu_84 (PReLU)              (None, 64, 128)      8192        conv1d_274[0][0]                 \n",
      "__________________________________________________________________________________________________\n",
      "p_re_lu_87 (PReLU)              (None, 64, 128)      8192        conv1d_278[0][0]                 \n",
      "__________________________________________________________________________________________________\n",
      "up_sampling1d_49 (UpSampling1D) (None, 128, 128)     0           p_re_lu_84[0][0]                 \n",
      "__________________________________________________________________________________________________\n",
      "up_sampling1d_51 (UpSampling1D) (None, 128, 128)     0           p_re_lu_87[0][0]                 \n",
      "__________________________________________________________________________________________________\n",
      "conv1d_275 (Conv1D)             (None, 128, 128)     49280       up_sampling1d_49[0][0]           \n",
      "__________________________________________________________________________________________________\n",
      "conv1d_279 (Conv1D)             (None, 128, 128)     49280       up_sampling1d_51[0][0]           \n",
      "__________________________________________________________________________________________________\n",
      "p_re_lu_85 (PReLU)              (None, 128, 128)     16384       conv1d_275[0][0]                 \n",
      "__________________________________________________________________________________________________\n",
      "p_re_lu_88 (PReLU)              (None, 128, 128)     16384       conv1d_279[0][0]                 \n",
      "__________________________________________________________________________________________________\n",
      "conv1d_276 (Conv1D)             (None, 128, 128)     49280       p_re_lu_85[0][0]                 \n",
      "__________________________________________________________________________________________________\n",
      "conv1d_280 (Conv1D)             (None, 128, 128)     49280       p_re_lu_88[0][0]                 \n",
      "__________________________________________________________________________________________________\n",
      "multiply_49 (Multiply)          (None, 128, 128)     0           add_29[0][0]                     \n",
      "                                                                 conv1d_276[0][0]                 \n",
      "__________________________________________________________________________________________________\n",
      "multiply_50 (Multiply)          (None, 128, 128)     0           add_29[0][0]                     \n",
      "                                                                 conv1d_280[0][0]                 \n",
      "==================================================================================================\n",
      "Total params: 629,632\n",
      "Trainable params: 628,864\n",
      "Non-trainable params: 768\n",
      "__________________________________________________________________________________________________\n"
     ]
    }
   ],
   "source": [
    "input_1 = Input(shape=SPECTROGRAM_DIMENSIONS, name='input_1')\n",
    "input_2 = Input(shape=SPECTROGRAM_DIMENSIONS, name='input_2')\n",
    "added = Add()([input_1, input_2])\n",
    "\n",
    "x = Conv1D(128, 3, padding=\"same\")(added)\n",
    "x = PReLU()(x)\n",
    "x = BatchNormalization()(x)\n",
    "x = MaxPooling1D(2)(x)\n",
    "\n",
    "x = Conv1D(128, 3, padding=\"same\")(x)\n",
    "x = PReLU()(x)\n",
    "x = BatchNormalization()(x)\n",
    "x = MaxPooling1D(2)(x)\n",
    "\n",
    "x = Conv1D(128, 3, padding=\"same\")(x)\n",
    "x = PReLU()(x)\n",
    "x = BatchNormalization()(x)\n",
    "dropout = Dropout(0.2)(x)\n",
    "x = MaxPooling1D(2)(x)\n",
    "\n",
    "x1 = Conv1D(128, 3, padding=\"same\")(dropout)\n",
    "x1 = PReLU()(x1)\n",
    "x1 = UpSampling1D(size=2)(x1)\n",
    "x1 = Conv1D(128, 3, padding=\"same\")(x1)\n",
    "x1 = PReLU()(x1)\n",
    "x1 = UpSampling1D(size=2)(x1)\n",
    "x1 = Conv1D(128, 3, padding=\"same\")(x1)\n",
    "x1 = PReLU()(x1)\n",
    "mask_1 = Conv1D(128, 3, padding=\"same\", activation=\"sigmoid\")(x1)\n",
    "out_1 = Multiply()([added, mask_1])\n",
    "\n",
    "x2 = Conv1D(128, 3, padding=\"same\")(dropout)\n",
    "x2 = PReLU()(x2)\n",
    "x2 = UpSampling1D(size=2)(x2)\n",
    "x2 = Conv1D(128, 3, padding=\"same\")(x2)\n",
    "x2 = PReLU()(x2)\n",
    "x2 = UpSampling1D(size=2)(x2)\n",
    "x2 = Conv1D(128, 3, padding=\"same\")(x2)\n",
    "x2 = PReLU()(x2)\n",
    "mask_2 = Conv1D(128, 3, padding=\"same\", activation=\"sigmoid\")(x2)\n",
    "out_2 = Multiply()([added, mask_2])\n",
    "\n",
    "\n",
    "autoencoder = Model(inputs=[input_1, input_2], outputs=[out_1, out_2], name='autoencoder')\n",
    "autoencoder.summary()\n",
    "autoencoder.compile(optimizer='adam',\n",
    "              loss=SI_SNR)"
   ]
  },
  {
   "cell_type": "code",
   "execution_count": 137,
   "metadata": {},
   "outputs": [
    {
     "name": "stdout",
     "output_type": "stream",
     "text": [
      "Epoch 1/20\n",
      "28/28 [==============================] - 1s 27ms/step - loss: -11.6480 - multiply_49_loss: -6.3627 - multiply_50_loss: -5.2853 - val_loss: -6.9837 - val_multiply_49_loss: -3.7626 - val_multiply_50_loss: -3.4824\n",
      "Epoch 2/20\n",
      "28/28 [==============================] - 1s 27ms/step - loss: -11.6689 - multiply_49_loss: -6.3745 - multiply_50_loss: -5.2944 - val_loss: -4.9294 - val_multiply_49_loss: -3.1791 - val_multiply_50_loss: -1.2150\n",
      "Epoch 3/20\n",
      "28/28 [==============================] - 1s 30ms/step - loss: -11.4836 - multiply_49_loss: -6.3043 - multiply_50_loss: -5.1793 - val_loss: -9.6872 - val_multiply_49_loss: -5.4682 - val_multiply_50_loss: -3.8844\n",
      "Epoch 4/20\n",
      "28/28 [==============================] - 1s 25ms/step - loss: -11.9656 - multiply_49_loss: -6.5270 - multiply_50_loss: -5.4387 - val_loss: -7.5719 - val_multiply_49_loss: -4.4676 - val_multiply_50_loss: -3.1419\n",
      "Epoch 5/20\n",
      "28/28 [==============================] - 1s 26ms/step - loss: -11.8832 - multiply_49_loss: -6.4864 - multiply_50_loss: -5.3968 - val_loss: -6.4049 - val_multiply_49_loss: -4.4814 - val_multiply_50_loss: -3.0850\n",
      "Epoch 6/20\n",
      "28/28 [==============================] - 1s 26ms/step - loss: -11.9175 - multiply_49_loss: -6.5104 - multiply_50_loss: -5.4071 - val_loss: -6.7694 - val_multiply_49_loss: -3.6327 - val_multiply_50_loss: -2.3510\n",
      "Epoch 7/20\n",
      "28/28 [==============================] - 1s 27ms/step - loss: -12.0617 - multiply_49_loss: -6.5707 - multiply_50_loss: -5.4910 - val_loss: -8.6610 - val_multiply_49_loss: -5.4815 - val_multiply_50_loss: -3.8978\n",
      "Epoch 8/20\n",
      "28/28 [==============================] - 1s 26ms/step - loss: -12.2404 - multiply_49_loss: -6.6684 - multiply_50_loss: -5.5720 - val_loss: -6.2313 - val_multiply_49_loss: -3.4637 - val_multiply_50_loss: -2.5337\n",
      "Epoch 9/20\n",
      "28/28 [==============================] - 1s 29ms/step - loss: -12.4159 - multiply_49_loss: -6.7524 - multiply_50_loss: -5.6634 - val_loss: -8.9349 - val_multiply_49_loss: -5.0166 - val_multiply_50_loss: -3.6745\n",
      "Epoch 10/20\n",
      "28/28 [==============================] - 1s 27ms/step - loss: -12.3834 - multiply_49_loss: -6.7166 - multiply_50_loss: -5.6668 - val_loss: -9.1733 - val_multiply_49_loss: -4.9867 - val_multiply_50_loss: -3.9785\n",
      "Epoch 11/20\n",
      "28/28 [==============================] - 1s 26ms/step - loss: -12.6498 - multiply_49_loss: -6.8646 - multiply_50_loss: -5.7853 - val_loss: -6.1100 - val_multiply_49_loss: -3.5747 - val_multiply_50_loss: -2.6091\n",
      "Epoch 12/20\n",
      "28/28 [==============================] - 1s 30ms/step - loss: -12.5636 - multiply_49_loss: -6.8268 - multiply_50_loss: -5.7368 - val_loss: -10.2022 - val_multiply_49_loss: -5.5778 - val_multiply_50_loss: -4.4755\n",
      "Epoch 13/20\n",
      "28/28 [==============================] - 1s 26ms/step - loss: -12.8068 - multiply_49_loss: -6.9616 - multiply_50_loss: -5.8453 - val_loss: -8.2985 - val_multiply_49_loss: -5.1177 - val_multiply_50_loss: -3.2204\n",
      "Epoch 14/20\n",
      "28/28 [==============================] - 1s 27ms/step - loss: -12.8080 - multiply_49_loss: -6.9466 - multiply_50_loss: -5.8613 - val_loss: -10.1847 - val_multiply_49_loss: -5.4553 - val_multiply_50_loss: -4.0887\n",
      "Epoch 15/20\n",
      "28/28 [==============================] - 1s 26ms/step - loss: -12.8320 - multiply_49_loss: -6.9330 - multiply_50_loss: -5.8990 - val_loss: -9.9195 - val_multiply_49_loss: -5.2669 - val_multiply_50_loss: -3.4203\n",
      "Epoch 16/20\n",
      "28/28 [==============================] - 1s 27ms/step - loss: -12.9550 - multiply_49_loss: -7.0111 - multiply_50_loss: -5.9439 - val_loss: -8.7892 - val_multiply_49_loss: -5.1131 - val_multiply_50_loss: -3.4286\n",
      "Epoch 17/20\n",
      "28/28 [==============================] - 1s 26ms/step - loss: -12.9399 - multiply_49_loss: -7.0237 - multiply_50_loss: -5.9162 - val_loss: -6.3848 - val_multiply_49_loss: -4.3898 - val_multiply_50_loss: -2.6492\n",
      "Epoch 18/20\n",
      "28/28 [==============================] - 1s 29ms/step - loss: -13.1288 - multiply_49_loss: -7.1138 - multiply_50_loss: -6.0151 - val_loss: -9.6560 - val_multiply_49_loss: -5.0213 - val_multiply_50_loss: -4.0118\n",
      "Epoch 19/20\n",
      "28/28 [==============================] - 1s 26ms/step - loss: -13.1556 - multiply_49_loss: -7.1136 - multiply_50_loss: -6.0420 - val_loss: -8.7122 - val_multiply_49_loss: -5.0892 - val_multiply_50_loss: -3.9992\n",
      "Epoch 20/20\n",
      "28/28 [==============================] - 1s 27ms/step - loss: -13.3029 - multiply_49_loss: -7.1911 - multiply_50_loss: -6.1119 - val_loss: -9.3987 - val_multiply_49_loss: -5.4439 - val_multiply_50_loss: -3.9801\n"
     ]
    },
    {
     "data": {
      "text/plain": [
       "<keras.callbacks.callbacks.History at 0x1f2cc392c48>"
      ]
     },
     "execution_count": 137,
     "metadata": {},
     "output_type": "execute_result"
    }
   ],
   "source": [
    "autoencoder.fit(double_auto_training_generator, validation_data=double_auto_validation_generator, epochs=20)"
   ]
  },
  {
   "cell_type": "code",
   "execution_count": 138,
   "metadata": {},
   "outputs": [],
   "source": [
    "n_batches = len(double_auto_validation_generator)\n",
    "k = random.randint(0, n_batches)\n",
    "examples_doubled=double_auto_validation_generator[k][0]\n",
    "ex1_batch, ex2_batch = examples_doubled\n",
    "n_samples = len(ex1_batch)\n",
    "random.shuffle(ex1_batch)\n",
    "ex1 = ex1_batch[0]\n",
    "random.shuffle(ex2_batch)\n",
    "ex2 = ex2_batch[0]\n",
    "batches = [ex1_batch, ex2_batch]\n",
    "predictions = autoencoder.predict(batches)"
   ]
  },
  {
   "cell_type": "code",
   "execution_count": 154,
   "metadata": {},
   "outputs": [
    {
     "name": "stdout",
     "output_type": "stream",
     "text": [
      "--Spec 1--\n",
      "--Spec 2--\n",
      "--Both--\n"
     ]
    },
    {
     "data": {
      "text/plain": [
       "<matplotlib.image.AxesImage at 0x1f32db22c08>"
      ]
     },
     "execution_count": 154,
     "metadata": {},
     "output_type": "execute_result"
    },
    {
     "data": {
      "image/png": "[encoded data removed]",
      "text/plain": [
       "<Figure size 288x288 with 1 Axes>"
      ]
     },
     "metadata": {
      "needs_background": "light"
     },
     "output_type": "display_data"
    },
    {
     "data": {
      "image/png": "[encoded data removed]",
      "text/plain": [
       "<Figure size 288x288 with 1 Axes>"
      ]
     },
     "metadata": {
      "needs_background": "light"
     },
     "output_type": "display_data"
    },
    {
     "data": {
      "image/png": "[encoded data removed]",
      "text/plain": [
       "<Figure size 288x288 with 1 Axes>"
      ]
     },
     "metadata": {
      "needs_background": "light"
     },
     "output_type": "display_data"
    }
   ],
   "source": [
    "n_batches = len(double_auto_validation_generator)\n",
    "k = random.randint(0, n_batches)\n",
    "examples_doubled=double_auto_validation_generator[k][0]\n",
    "ex1_batch, ex2_batch = examples_doubled\n",
    "n_samples = len(ex1_batch)\n",
    "random.shuffle(ex1_batch)\n",
    "ex1 = ex1_batch[0]\n",
    "random.shuffle(ex2_batch)\n",
    "ex2 = ex2_batch[0]\n",
    "batches = [ex1_batch, ex2_batch]\n",
    "predictions = autoencoder.predict(batches)\n",
    "\n",
    "spec1 = ex1.reshape((128,128))\n",
    "pred1 = predictions[0][0]\n",
    "pred_spec_1 = pred1.reshape((128,128))\n",
    "diff1 = spec1-pred_spec_1\n",
    "# print(np.max(diff1)/np.max(pred1))\n",
    "print(\"--Spec 1--\")\n",
    "plt.matshow(spec1)\n",
    "# print(\"--Pred 1--\")\n",
    "# plt.matshow(pred_spec_1)\n",
    "# print(\"--Diff 1--\")\n",
    "# plt.matshow(diff1)\n",
    "\n",
    "spec2 = ex2.reshape((128,128))\n",
    "pred2 = predictions[0][1]\n",
    "pred_spec_2 = pred2.reshape((128,128))\n",
    "diff2 = spec2-pred_spec_2\n",
    "# print(np.max(diff2)/np.max(pred2))\n",
    "print(\"--Spec 2--\")\n",
    "plt.matshow(spec2)\n",
    "# print(\"--Pred 2--\")\n",
    "# plt.matshow(pred_spec_2)\n",
    "# print(\"--Diff 2--\")\n",
    "# plt.matshow(diff2)\n",
    "\n",
    "spec = spec1+spec2\n",
    "print(\"--Both--\")\n",
    "plt.matshow(spec)"
   ]
  },
  {
   "cell_type": "code",
   "execution_count": 145,
   "metadata": {},
   "outputs": [
    {
     "name": "stdout",
     "output_type": "stream",
     "text": [
      "0.5251384351251059\n"
     ]
    },
    {
     "data": {
      "text/plain": [
       "<matplotlib.image.AxesImage at 0x1f32b576288>"
      ]
     },
     "execution_count": 145,
     "metadata": {},
     "output_type": "execute_result"
    },
    {
     "data": {
      "image/png": "[encoded data removed]",
      "text/plain": [
       "<Figure size 288x288 with 1 Axes>"
      ]
     },
     "metadata": {
      "needs_background": "light"
     },
     "output_type": "display_data"
    },
    {
     "data": {
      "image/png": "[encoded data removed]",
      "text/plain": [
       "<Figure size 288x288 with 1 Axes>"
      ]
     },
     "metadata": {
      "needs_background": "light"
     },
     "output_type": "display_data"
    },
    {
     "data": {
      "image/png": "[encoded data removed]",
      "text/plain": [
       "<Figure size 288x288 with 1 Axes>"
      ]
     },
     "metadata": {
      "needs_background": "light"
     },
     "output_type": "display_data"
    }
   ],
   "source": [
    "n_batches = len(double_auto_training_generator)\n",
    "k = random.randint(0, n_batches)\n",
    "examples_doubled=double_auto_training_generator[k][0]\n",
    "ex1_batch, ex2_batch = examples_doubled\n",
    "n_samples = len(ex1_batch)\n",
    "random.shuffle(ex1_batch)\n",
    "ex1 = ex1_batch[0]\n",
    "random.shuffle(ex2_batch)\n",
    "ex2 = ex2_batch[0]\n",
    "batches = [ex1_batch, ex2_batch]\n",
    "predictions = autoencoder.predict(batches)\n",
    "\n",
    "spec2 = ex2.reshape((128,128))\n",
    "pred2 = predictions[0][1]\n",
    "pred_spec_2 = pred2.reshape((128,128))\n",
    "diff2 = spec2-pred_spec_2\n",
    "print(np.max(diff2)/np.max(pred2))\n",
    "plt.matshow(spec2)\n",
    "plt.matshow(pred_spec_2)\n",
    "plt.matshow(diff2)\n"
   ]
  },
  {
   "cell_type": "code",
   "execution_count": 92,
   "metadata": {},
   "outputs": [
    {
     "ename": "NameError",
     "evalue": "name 'sess' is not defined",
     "output_type": "error",
     "traceback": [
      "\u001b[1;31m---------------------------------------------------------------------------\u001b[0m",
      "\u001b[1;31mNameError\u001b[0m                                 Traceback (most recent call last)",
      "\u001b[1;32m<ipython-input-92-a7cc05c332f7>\u001b[0m in \u001b[0;36m<module>\u001b[1;34m\u001b[0m\n\u001b[1;32m----> 1\u001b[1;33m \u001b[1;32mwith\u001b[0m \u001b[0msess\u001b[0m\u001b[1;33m.\u001b[0m\u001b[0mas_default\u001b[0m\u001b[1;33m(\u001b[0m\u001b[1;33m)\u001b[0m\u001b[1;33m:\u001b[0m\u001b[1;33m\u001b[0m\u001b[1;33m\u001b[0m\u001b[0m\n\u001b[0m\u001b[0;32m      2\u001b[0m     \u001b[0mmask_1\u001b[0m\u001b[1;33m.\u001b[0m\u001b[0meval\u001b[0m\u001b[1;33m(\u001b[0m\u001b[1;33m)\u001b[0m\u001b[1;33m\u001b[0m\u001b[1;33m\u001b[0m\u001b[0m\n",
      "\u001b[1;31mNameError\u001b[0m: name 'sess' is not defined"
     ]
    }
   ],
   "source": []
  },
  {
   "cell_type": "code",
   "execution_count": null,
   "metadata": {},
   "outputs": [],
   "source": []
  },
  {
   "cell_type": "code",
   "execution_count": 81,
   "metadata": {},
   "outputs": [
    {
     "name": "stdout",
     "output_type": "stream",
     "text": [
      "0.3748256662172763\n"
     ]
    },
    {
     "data": {
      "text/plain": [
       "<matplotlib.image.AxesImage at 0x1b0a3af3248>"
      ]
     },
     "execution_count": 81,
     "metadata": {},
     "output_type": "execute_result"
    },
    {
     "data": {
      "image/png": "[encoded data removed]",
      "text/plain": [
       "<Figure size 288x288 with 1 Axes>"
      ]
     },
     "metadata": {
      "needs_background": "light"
     },
     "output_type": "display_data"
    },
    {
     "data": {
      "image/png": "[encoded data removed]",
      "text/plain": [
       "<Figure size 288x288 with 1 Axes>"
      ]
     },
     "metadata": {
      "needs_background": "light"
     },
     "output_type": "display_data"
    },
    {
     "data": {
      "image/png": "[encoded data removed]",
      "text/plain": [
       "<Figure size 288x288 with 1 Axes>"
      ]
     },
     "metadata": {
      "needs_background": "light"
     },
     "output_type": "display_data"
    }
   ],
   "source": [
    "spec2 = ex2.reshape((128,128))\n",
    "pred2 = predictions[0][1]\n",
    "pred_spec_2 = pred2.reshape((128,128))\n",
    "diff2 = spec2-pred_spec_2\n",
    "print(np.max(diff2)/np.max(pred2))\n",
    "plt.matshow(spec2)\n",
    "plt.matshow(pred_spec_2)\n",
    "plt.matshow(diff2)"
   ]
  },
  {
   "cell_type": "markdown",
   "metadata": {},
   "source": [
    "# Test"
   ]
  },
  {
   "cell_type": "code",
   "execution_count": 11,
   "metadata": {},
   "outputs": [
    {
     "data": {
      "text/plain": [
       "array([0.29168153, 0.46668703, 0.23765396, 0.75775788, 0.61512461,\n",
       "       0.07152913, 0.54229938, 0.54839354, 0.81475662, 0.65263818,\n",
       "       0.86334199, 0.25302543, 0.89028553, 0.29036215, 0.92865215,\n",
       "       0.76919179, 0.9253494 , 0.80433911, 0.51018797, 0.34713318,\n",
       "       0.9798837 , 0.43440747, 0.70824782, 0.94744015, 0.9376553 ,\n",
       "       0.1041424 , 0.98339708, 0.62256562, 0.40888042, 0.67031399])"
      ]
     },
     "execution_count": 11,
     "metadata": {},
     "output_type": "execute_result"
    }
   ],
   "source": [
    "np.random.random(30)"
   ]
  },
  {
   "cell_type": "markdown",
   "metadata": {},
   "source": [
    "# Other - Learning to invert with a very small model"
   ]
  },
  {
   "cell_type": "code",
   "execution_count": 341,
   "metadata": {},
   "outputs": [],
   "source": [
    "def f(X):\n",
    "    return np.sum(X**3)\n",
    "a, b = -1, 1"
   ]
  },
  {
   "cell_type": "code",
   "execution_count": 366,
   "metadata": {},
   "outputs": [],
   "source": [
    "m=1\n",
    "def makeData(n, a=-1.2, b=1.2):\n",
    "    # Make data points in (a, b)\n",
    "    X=np.zeros((n, m))\n",
    "    for k in range(n):\n",
    "        X[k] = np.random.random(m)*(b-a)+a\n",
    "    return X"
   ]
  },
  {
   "cell_type": "code",
   "execution_count": 367,
   "metadata": {},
   "outputs": [],
   "source": [
    "n = 50000\n",
    "thresh = int(n*0.8)\n",
    "normalize = 100\n",
    "X = makeData(n)\n",
    "X_t = X[0:thresh]\n",
    "X_v = X[thresh::]\n",
    "Y_t = np.array([f(x_t) for x_t in X_t]) / normalize\n",
    "Y_v = np.array([f(x_v) for x_v in X_v]) / normalize"
   ]
  },
  {
   "cell_type": "code",
   "execution_count": 368,
   "metadata": {},
   "outputs": [],
   "source": [
    "# Design model\n",
    "from keras.layers import LeakyReLU, PReLU, ReLU\n",
    "\n",
    "model = Sequential()\n",
    "model.add(Dense(m))\n",
    "model.add(LeakyReLU())\n",
    "# model.add(Dense(3))\n",
    "# model.add(LeakyReLU())\n",
    "# model.add(Dense(3))\n",
    "# model.add(LeakyReLU())\n",
    "model.add(Dense(10))\n",
    "model.add(LeakyReLU())\n",
    "model.add(Dense(10))\n",
    "model.add(LeakyReLU())\n",
    "model.add(Dropout(0.2))\n",
    "model.add(Dense(1))\n",
    "\n",
    "model.compile(optimizer='adam',\n",
    "              loss='mean_squared_error')"
   ]
  },
  {
   "cell_type": "code",
   "execution_count": 373,
   "metadata": {},
   "outputs": [
    {
     "name": "stdout",
     "output_type": "stream",
     "text": [
      "Epoch 1/4\n",
      "40000/40000 [==============================] - 3s 78us/step - loss: 8.6458e-06\n",
      "Epoch 2/4\n",
      "40000/40000 [==============================] - 3s 79us/step - loss: 5.3142e-06\n",
      "Epoch 3/4\n",
      "40000/40000 [==============================] - 3s 80us/step - loss: 3.9708e-06\n",
      "Epoch 4/4\n",
      "40000/40000 [==============================] - 3s 78us/step - loss: 3.5766e-06\n"
     ]
    },
    {
     "data": {
      "text/plain": [
       "<keras.callbacks.callbacks.History at 0x1b16deafe08>"
      ]
     },
     "execution_count": 373,
     "metadata": {},
     "output_type": "execute_result"
    }
   ],
   "source": [
    "model.fit(X_t, Y_t, epochs = 4)"
   ]
  },
  {
   "cell_type": "code",
   "execution_count": 374,
   "metadata": {},
   "outputs": [
    {
     "data": {
      "text/plain": [
       "[<matplotlib.lines.Line2D at 0x1b16dfb6608>]"
      ]
     },
     "execution_count": 374,
     "metadata": {},
     "output_type": "execute_result"
    },
    {
     "data": {
      "image/png": "[encoded data removed]",
      "text/plain": [
       "<Figure size 432x288 with 1 Axes>"
      ]
     },
     "metadata": {
      "needs_background": "light"
     },
     "output_type": "display_data"
    }
   ],
   "source": [
    "exple = np.linspace(a,b,10001)\n",
    "th = np.array([[f(a)] for a in exple]) / normalize\n",
    "y = model.predict(exple)\n",
    "diff = th-y\n",
    "plt.plot(exple, diff*100)"
   ]
  },
  {
   "cell_type": "code",
   "execution_count": 375,
   "metadata": {},
   "outputs": [
    {
     "data": {
      "text/plain": [
       "[<matplotlib.lines.Line2D at 0x1b16e023e08>]"
      ]
     },
     "execution_count": 375,
     "metadata": {},
     "output_type": "execute_result"
    },
    {
     "data": {
      "image/png": "[encoded data removed]",
      "text/plain": [
       "<Figure size 432x288 with 1 Axes>"
      ]
     },
     "metadata": {
      "needs_background": "light"
     },
     "output_type": "display_data"
    }
   ],
   "source": [
    "plt.plot(exple, y*100)"
   ]
  },
  {
   "cell_type": "code",
   "execution_count": 376,
   "metadata": {},
   "outputs": [
    {
     "data": {
      "text/plain": [
       "[<matplotlib.lines.Line2D at 0x1b16e055748>]"
      ]
     },
     "execution_count": 376,
     "metadata": {},
     "output_type": "execute_result"
    },
    {
     "data": {
      "image/png": "[encoded data removed]",
      "text/plain": [
       "<Figure size 432x288 with 1 Axes>"
      ]
     },
     "metadata": {
      "needs_background": "light"
     },
     "output_type": "display_data"
    }
   ],
   "source": [
    "plt.plot(exple, th*100)"
   ]
  },
  {
   "cell_type": "code",
   "execution_count": 467,
   "metadata": {},
   "outputs": [],
   "source": [
    "x = tf.keras.backend.ones((2, 2))\n",
    "i = tf.keras.backend.eye(2, dtype='float32')*10\n",
    "a=x+i\n",
    "y = tf.keras.backend.ones((2, 2)) \n",
    "xy = tf.keras.backend.dot(x, y)\n",
    "# xy"
   ]
  },
  {
   "cell_type": "code",
   "execution_count": 428,
   "metadata": {},
   "outputs": [
    {
     "data": {
      "text/plain": [
       "<tf.Tensor: id=1131873, shape=(2, 2), dtype=float32, numpy=\n",
       "array([[1.3333334, 0.6666667],\n",
       "       [0.6666667, 1.3333334]], dtype=float32)>"
      ]
     },
     "execution_count": 428,
     "metadata": {},
     "output_type": "execute_result"
    }
   ],
   "source": [
    "_dot = tf.keras.backend.dot\n",
    "_sum = tf.keras.backend.sum\n",
    "\n",
    "def f(s, s_hat):\n",
    "    \"<s_hat, s>s / ||s||**2\"\n",
    "    a = _sum(_dot(s, s_hat))*s\n",
    "    b = _sum(_dot(s, s))\n",
    "    return a/b\n",
    "\n",
    "f(a, x)"
   ]
  },
  {
   "cell_type": "code",
   "execution_count": 469,
   "metadata": {},
   "outputs": [
    {
     "data": {
      "text/plain": [
       "<tf.Tensor: id=1152286, shape=(2, 2), dtype=float32, numpy=\n",
       "array([[  1., -inf],\n",
       "       [-inf,   1.]], dtype=float32)>"
      ]
     },
     "execution_count": 469,
     "metadata": {},
     "output_type": "execute_result"
    }
   ],
   "source": [
    "tf.keras.backend.log(i)/np.log(10)"
   ]
  },
  {
   "cell_type": "code",
   "execution_count": 17,
   "metadata": {},
   "outputs": [
    {
     "name": "stdout",
     "output_type": "stream",
     "text": [
      "[name: \"/device:CPU:0\"\n",
      "device_type: \"CPU\"\n",
      "memory_limit: 268435456\n",
      "locality {\n",
      "}\n",
      "incarnation: 13965586468894694418\n",
      ", name: \"/device:GPU:0\"\n",
      "device_type: \"GPU\"\n",
      "memory_limit: 3061527347\n",
      "locality {\n",
      "  bus_id: 1\n",
      "  links {\n",
      "  }\n",
      "}\n",
      "incarnation: 8126309503294165658\n",
      "physical_device_desc: \"device: 0, name: GeForce GTX 1650, pci bus id: 0000:01:00.0, compute capability: 7.5\"\n",
      "]\n"
     ]
    }
   ],
   "source": [
    "from tensorflow.python.client import device_lib\n",
    "with tf.device('/gpu:0'):\n",
    "    print(device_lib.list_local_devices())"
   ]
  },
  {
   "cell_type": "code",
   "execution_count": 17,
   "metadata": {},
   "outputs": [
    {
     "name": "stdout",
     "output_type": "stream",
     "text": [
      "2.0.0\n"
     ]
    }
   ],
   "source": [
    "\n",
    "import tensorflow as tf\n",
    "print(tf.__version__)"
   ]
  },
  {
   "cell_type": "code",
   "execution_count": null,
   "metadata": {},
   "outputs": [],
   "source": []
  }
 ],
 "metadata": {
  "accelerator": "GPU",
  "colab": {
   "authorship_tag": "ABX9TyPQUdaRavbjj+vHeW0RlfK5",
   "collapsed_sections": [],
   "name": "voicesplit.ipynb",
   "provenance": [],
   "toc_visible": true
  },
  "kernelspec": {
   "display_name": "Python 3",
   "language": "python",
   "name": "python3"
  },
  "language_info": {
   "codemirror_mode": {
    "name": "ipython",
    "version": 3
   },
   "file_extension": ".py",
   "mimetype": "text/x-python",
   "name": "python",
   "nbconvert_exporter": "python",
   "pygments_lexer": "ipython3",
   "version": "3.7.6"
  }
 },
 "nbformat": 4,
 "nbformat_minor": 1
}
